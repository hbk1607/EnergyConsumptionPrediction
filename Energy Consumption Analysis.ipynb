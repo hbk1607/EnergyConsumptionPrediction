{
 "cells": [
  {
   "cell_type": "markdown",
   "id": "f5815f0e",
   "metadata": {},
   "source": [
    "Data source: https://www.kaggle.com/datasets/mrsimple07/energy-consumption-prediction"
   ]
  },
  {
   "cell_type": "markdown",
   "id": "a127d992",
   "metadata": {},
   "source": [
    "##### Sample dataset"
   ]
  },
  {
   "cell_type": "code",
   "execution_count": 2,
   "id": "951b3184",
   "metadata": {},
   "outputs": [
    {
     "name": "stdout",
     "output_type": "stream",
     "text": [
      "Timestamp,Temperature,Humidity,SquareFootage,Occupancy,HVACUsage,LightingUsage,RenewableEnergy,DayOfWeek,Holiday,EnergyConsumption\n",
      "2022-01-01 00:00:00,25.1394334377269,43.43158120480281,1565.6939992511175,5,On,Off,2.774698791658742,Monday,No,75.36437339539214\n",
      "2022-01-01 01:00:00,27.731650520792968,54.225918580233085,1411.064918331917,1,On,On,21.831384152500608,Saturday,No,83.40185495035139\n",
      "2022-01-01 02:00:00,28.704276857248125,58.907657743033184,1755.71500922237,2,Off,Off,6.76467168191291,Sunday,No,78.27088774061066\n",
      "2022-01-01 03:00:00,20.080469485298178,50.3716371457499,1452.316318334375,1,Off,On,8.623446893471096,Wednesday,No,56.51985048548002\n",
      "2022-01-01 04:00:00,23.09735925505204,51.40142134361278,1094.1303586981196,9,On,Off,3.0719692157166323,Friday,No,70.81173246793318\n",
      "2022-01-01 05:00:00,29.576037393658908,36.82426323380886,1871.7091797360983,6,Off,Off,17.62668982389795,Sunday,Yes,84.32188519433718\n",
      "2022-01-01 06:00:00,25.13116712267887,35.70962155267958,1607.0012284749637,6,On,Off,24.26470232698351,Fri"
     ]
    }
   ],
   "source": [
    "! hadoop fs -head /user/itv010025/Energy_consumption.csv"
   ]
  },
  {
   "cell_type": "markdown",
   "id": "7aa2294b",
   "metadata": {},
   "source": [
    "#### Load the data to a dataframe"
   ]
  },
  {
   "cell_type": "code",
   "execution_count": 4,
   "id": "f9265453",
   "metadata": {},
   "outputs": [],
   "source": [
    "df=spark.read\\\n",
    ".format(\"csv\")\\\n",
    ".option(\"header\",\"true\")\\\n",
    ".option(\"inferScehma\",\"true\")\\\n",
    ".load(\"/user/itv010025/Energy_consumption.csv\")"
   ]
  },
  {
   "cell_type": "markdown",
   "id": "eda21ceb",
   "metadata": {},
   "source": [
    "### Analyze the average energy consumption on weekdays."
   ]
  },
  {
   "cell_type": "code",
   "execution_count": 5,
   "id": "7e693629",
   "metadata": {},
   "outputs": [],
   "source": [
    "from pyspark.sql.functions import *"
   ]
  },
  {
   "cell_type": "code",
   "execution_count": 8,
   "id": "33fb7289",
   "metadata": {},
   "outputs": [],
   "source": [
    "average_weekday_energy = df.filter(col(\"DayOfWeek\").isin(\"Monday\", \"Tuesday\", \"Wednesday\", \"Thursday\", \"Friday\")) \\\n",
    "                           .groupBy(\"DayOfWeek\") \\\n",
    "                           .agg({\"EnergyConsumption\": \"avg\"}) "
   ]
  },
  {
   "cell_type": "code",
   "execution_count": 9,
   "id": "2ba6bf8a",
   "metadata": {},
   "outputs": [
    {
     "name": "stdout",
     "output_type": "stream",
     "text": [
      "+---------+----------------------+\n",
      "|DayOfWeek|avg(EnergyConsumption)|\n",
      "+---------+----------------------+\n",
      "|Wednesday|     77.36288506111985|\n",
      "|  Tuesday|     76.52830062050926|\n",
      "|   Friday|     76.86883595434503|\n",
      "| Thursday|     77.36638317654781|\n",
      "|   Monday|     77.44865209166277|\n",
      "+---------+----------------------+\n",
      "\n"
     ]
    }
   ],
   "source": [
    "average_weekday_energy.show()"
   ]
  },
  {
   "cell_type": "markdown",
   "id": "9220c9e9",
   "metadata": {},
   "source": [
    "###  Renewable Energy Consumption on Weekends"
   ]
  },
  {
   "cell_type": "code",
   "execution_count": 16,
   "id": "5ca0d0ba",
   "metadata": {},
   "outputs": [],
   "source": [
    "renewable_energy_weekends = df.filter(col(\"DayOfWeek\").isin(\"Saturday\", \"Sunday\")) \\\n",
    "                              .groupBy(\"DayOfWeek\") \\\n",
    "                              .agg({\"RenewableEnergy\": \"sum\"}) \\"
   ]
  },
  {
   "cell_type": "code",
   "execution_count": 15,
   "id": "bf161072",
   "metadata": {},
   "outputs": [
    {
     "name": "stdout",
     "output_type": "stream",
     "text": [
      "+---------+--------------------+\n",
      "|DayOfWeek|sum(RenewableEnergy)|\n",
      "+---------+--------------------+\n",
      "| Saturday|   2229.131662346983|\n",
      "|   Sunday|   2495.252659328652|\n",
      "+---------+--------------------+\n",
      "\n"
     ]
    }
   ],
   "source": [
    "renewable_energy_weekends.show()"
   ]
  },
  {
   "cell_type": "markdown",
   "id": "c196f5c5",
   "metadata": {},
   "source": [
    "### Occupancy vs. Lighting Usage\n"
   ]
  },
  {
   "cell_type": "code",
   "execution_count": 17,
   "id": "677c48be",
   "metadata": {},
   "outputs": [],
   "source": [
    "occupancy_vs_lighting = df.groupBy(\"Occupancy\", \"LightingUsage\") \\\n",
    "                         .count() \\"
   ]
  },
  {
   "cell_type": "code",
   "execution_count": 18,
   "id": "58314555",
   "metadata": {},
   "outputs": [
    {
     "name": "stdout",
     "output_type": "stream",
     "text": [
      "+---------+-------------+-----+\n",
      "|Occupancy|LightingUsage|count|\n",
      "+---------+-------------+-----+\n",
      "|        2|          Off|   51|\n",
      "|        9|          Off|   50|\n",
      "|        6|           On|   53|\n",
      "|        7|           On|   52|\n",
      "|        3|          Off|   58|\n",
      "|        4|          Off|   42|\n",
      "|        7|          Off|   49|\n",
      "|        5|           On|   52|\n",
      "|        1|           On|   45|\n",
      "|        9|           On|   43|\n",
      "|        8|          Off|   65|\n",
      "|        6|          Off|   54|\n",
      "|        3|           On|   48|\n",
      "|        8|           On|   53|\n",
      "|        5|          Off|   44|\n",
      "|        4|           On|   50|\n",
      "|        0|           On|   50|\n",
      "|        0|          Off|   48|\n",
      "|        2|           On|   45|\n",
      "|        1|          Off|   48|\n",
      "+---------+-------------+-----+\n",
      "\n"
     ]
    }
   ],
   "source": [
    "occupancy_vs_lighting.show()"
   ]
  },
  {
   "cell_type": "markdown",
   "id": "388cdc80",
   "metadata": {},
   "source": [
    "### Analyzing Energy Consumption on Holidays"
   ]
  },
  {
   "cell_type": "code",
   "execution_count": 20,
   "id": "2934d393",
   "metadata": {},
   "outputs": [],
   "source": [
    "energy_consumption_holidays = df.filter(col(\"Holiday\") == \"Yes\") \\\n",
    "                                .agg({\"EnergyConsumption\": \"sum\"}) \\"
   ]
  },
  {
   "cell_type": "code",
   "execution_count": 21,
   "id": "6722b760",
   "metadata": {},
   "outputs": [
    {
     "name": "stdout",
     "output_type": "stream",
     "text": [
      "+----------------------+\n",
      "|sum(EnergyConsumption)|\n",
      "+----------------------+\n",
      "|     36215.26224385907|\n",
      "+----------------------+\n",
      "\n"
     ]
    }
   ],
   "source": [
    "energy_consumption_holidays.show()"
   ]
  },
  {
   "cell_type": "markdown",
   "id": "c6019d77",
   "metadata": {},
   "source": [
    "### Temperature Trends by Day of the Week"
   ]
  },
  {
   "cell_type": "code",
   "execution_count": 32,
   "id": "311018ba",
   "metadata": {},
   "outputs": [],
   "source": [
    "temperature_by_day = df.groupBy(\"DayOfWeek\") \\\n",
    "                      .agg({\"Temperature\": \"avg\"}) \\"
   ]
  },
  {
   "cell_type": "code",
   "execution_count": 33,
   "id": "e2788a24",
   "metadata": {},
   "outputs": [
    {
     "name": "stdout",
     "output_type": "stream",
     "text": [
      "+---------+------------------+\n",
      "|DayOfWeek|  avg(Temperature)|\n",
      "+---------+------------------+\n",
      "|Wednesday|24.962806681365343|\n",
      "|  Tuesday| 24.72395318369506|\n",
      "|   Friday|24.829071886394033|\n",
      "| Thursday|24.941536839701246|\n",
      "| Saturday|25.225067393433413|\n",
      "|   Monday| 25.21602935941349|\n",
      "|   Sunday|25.030861566988133|\n",
      "+---------+------------------+\n",
      "\n"
     ]
    }
   ],
   "source": [
    "temperature_by_day.show()"
   ]
  },
  {
   "cell_type": "markdown",
   "id": "a629033e",
   "metadata": {},
   "source": [
    "### Highest Energy Consumers"
   ]
  },
  {
   "cell_type": "code",
   "execution_count": 36,
   "id": "79167391",
   "metadata": {},
   "outputs": [],
   "source": [
    "top_energy_consumers = df.orderBy(\"EnergyConsumption\", ascending=False) \\\n",
    "                        .limit(5) "
   ]
  },
  {
   "cell_type": "code",
   "execution_count": 37,
   "id": "c8b710e8",
   "metadata": {},
   "outputs": [
    {
     "name": "stdout",
     "output_type": "stream",
     "text": [
      "+-------------------+------------------+------------------+------------------+---------+---------+-------------+------------------+---------+-------+-----------------+\n",
      "|          Timestamp|       Temperature|          Humidity|     SquareFootage|Occupancy|HVACUsage|LightingUsage|   RenewableEnergy|DayOfWeek|Holiday|EnergyConsumption|\n",
      "+-------------------+------------------+------------------+------------------+---------+---------+-------------+------------------+---------+-------+-----------------+\n",
      "|2022-01-17 07:00:00|29.764203044712158|40.901013453169035| 1463.830142637306|        6|       On|           On|  15.3214993359711| Saturday|     No|99.20111959032309|\n",
      "|2022-01-29 04:00:00|29.643731582141363| 43.95863614388401|1442.2749135624301|        8|      Off|           On| 27.17895038703294| Saturday|     No|98.84375583052464|\n",
      "|2022-01-28 22:00:00|28.809743757906105|  31.2086057407159|1630.5279602661965|        6|       On|           On|19.352490458349166| Thursday|     No|98.76175414998474|\n",
      "|2022-01-22 01:00:00|27.909831281101503|36.871317157799034|1263.0445996568965|        7|      Off|          Off|23.410277358260622| Saturday|     No|97.77348781754034|\n",
      "|2022-02-06 08:00:00|29.958813926408695|  55.9701846276141| 1418.618420957192|        1|       On|           On| 3.530509655990701|Wednesday|    Yes| 96.8270154708628|\n",
      "+-------------------+------------------+------------------+------------------+---------+---------+-------------+------------------+---------+-------+-----------------+\n",
      "\n"
     ]
    }
   ],
   "source": [
    "top_energy_consumers.show()"
   ]
  },
  {
   "cell_type": "markdown",
   "id": "7afefa32",
   "metadata": {},
   "source": [
    "### HVAC Usage during Working Hours"
   ]
  },
  {
   "cell_type": "code",
   "execution_count": 9,
   "id": "86d69601",
   "metadata": {},
   "outputs": [],
   "source": [
    "from pyspark.sql.types import *"
   ]
  },
  {
   "cell_type": "code",
   "execution_count": 10,
   "id": "c58006bc",
   "metadata": {},
   "outputs": [],
   "source": [
    "# Converting 'Timestamp' column to timestamp type\n",
    "df = df.withColumn(\"Timestamp\", col(\"Timestamp\").cast(TimestampType()))"
   ]
  },
  {
   "cell_type": "code",
   "execution_count": 45,
   "id": "e873b2af",
   "metadata": {},
   "outputs": [],
   "source": [
    "# Filtering data for hours between 9 AM and 5 PM\n",
    "working_hours_hvac = df.filter((hour(\"Timestamp\") >= 9) & (hour(\"Timestamp\") <= 17)) \\\n",
    "                      .groupBy(\"HVACUsage\") \\\n",
    "                      .count() "
   ]
  },
  {
   "cell_type": "code",
   "execution_count": 46,
   "id": "c3740d0f",
   "metadata": {},
   "outputs": [
    {
     "name": "stdout",
     "output_type": "stream",
     "text": [
      "+---------+-----+\n",
      "|HVACUsage|count|\n",
      "+---------+-----+\n",
      "|       On|  174|\n",
      "|      Off|  202|\n",
      "+---------+-----+\n",
      "\n"
     ]
    }
   ],
   "source": [
    "working_hours_hvac.show()"
   ]
  },
  {
   "cell_type": "markdown",
   "id": "9be16fd0",
   "metadata": {},
   "source": [
    "### Energy Consumption on Holidays vs. Non-Holidays"
   ]
  },
  {
   "cell_type": "code",
   "execution_count": 47,
   "id": "eb87da4d",
   "metadata": {},
   "outputs": [
    {
     "name": "stdout",
     "output_type": "stream",
     "text": [
      "+-------+----------------------+\n",
      "|Holiday|avg(EnergyConsumption)|\n",
      "+-------+----------------------+\n",
      "|     No|      76.6240349434029|\n",
      "|    Yes|     77.54874142153976|\n",
      "+-------+----------------------+\n",
      "\n"
     ]
    }
   ],
   "source": [
    "energy_comparison_holidays = df.groupBy(\"Holiday\") \\\n",
    "                               .agg({\"EnergyConsumption\": \"avg\"}) \\\n",
    "                               .show()"
   ]
  },
  {
   "cell_type": "markdown",
   "id": "8feac667",
   "metadata": {},
   "source": [
    "### Lighting Usage on Weekdays"
   ]
  },
  {
   "cell_type": "code",
   "execution_count": 19,
   "id": "b8012edd",
   "metadata": {},
   "outputs": [],
   "source": [
    "lighting_weekdays = df.filter(~col(\"DayOfWeek\").isin(\"Saturday\", \"Sunday\")) \\\n",
    "                     .groupBy(\"LightingUsage\") \\\n",
    "                     .count() "
   ]
  },
  {
   "cell_type": "code",
   "execution_count": 20,
   "id": "d1e554ca",
   "metadata": {},
   "outputs": [
    {
     "name": "stdout",
     "output_type": "stream",
     "text": [
      "+-------------+-----+\n",
      "|LightingUsage|count|\n",
      "+-------------+-----+\n",
      "|           On|  346|\n",
      "|          Off|  357|\n",
      "+-------------+-----+\n",
      "\n"
     ]
    }
   ],
   "source": [
    "lighting_weekdays.show()"
   ]
  },
  {
   "cell_type": "markdown",
   "id": "9656f1d2",
   "metadata": {},
   "source": [
    "### Occupancy Distribution on Weekends"
   ]
  },
  {
   "cell_type": "code",
   "execution_count": 21,
   "id": "055b4abf",
   "metadata": {},
   "outputs": [],
   "source": [
    "occupancy_weekends = df.filter(col(\"DayOfWeek\").isin(\"Saturday\", \"Sunday\")) \\\n",
    "                     .groupBy(\"Occupancy\") \\\n",
    "                     .count() "
   ]
  },
  {
   "cell_type": "code",
   "execution_count": 22,
   "id": "37e81d82",
   "metadata": {},
   "outputs": [
    {
     "name": "stdout",
     "output_type": "stream",
     "text": [
      "+---------+-----+\n",
      "|Occupancy|count|\n",
      "+---------+-----+\n",
      "|        7|   28|\n",
      "|        3|   34|\n",
      "|        8|   36|\n",
      "|        0|   27|\n",
      "|        5|   32|\n",
      "|        6|   33|\n",
      "|        9|   21|\n",
      "|        1|   25|\n",
      "|        4|   22|\n",
      "|        2|   39|\n",
      "+---------+-----+\n",
      "\n"
     ]
    }
   ],
   "source": [
    "occupancy_weekends.show()"
   ]
  },
  {
   "cell_type": "markdown",
   "id": "bc5ae7e1",
   "metadata": {},
   "source": [
    "### Renewable Energy Proportion"
   ]
  },
  {
   "cell_type": "code",
   "execution_count": 24,
   "id": "ed749eaa",
   "metadata": {},
   "outputs": [],
   "source": [
    "renewable_energy_proportion = df.agg({\"RenewableEnergy\": \"sum\", \"EnergyConsumption\": \"sum\"}) \\\n",
    "                             .withColumn(\"Proportion\", col(\"sum(RenewableEnergy)\") / col(\"sum(EnergyConsumption)\")) "
   ]
  },
  {
   "cell_type": "code",
   "execution_count": 25,
   "id": "c74a442e",
   "metadata": {},
   "outputs": [
    {
     "name": "stdout",
     "output_type": "stream",
     "text": [
      "+----------------------+--------------------+-------------------+\n",
      "|sum(EnergyConsumption)|sum(RenewableEnergy)|         Proportion|\n",
      "+----------------------+--------------------+-------------------+\n",
      "|     77055.87286869274|  15132.812747962558|0.19638753263816333|\n",
      "+----------------------+--------------------+-------------------+\n",
      "\n"
     ]
    }
   ],
   "source": [
    "renewable_energy_proportion.show()"
   ]
  },
  {
   "cell_type": "markdown",
   "id": "a9cd7409",
   "metadata": {},
   "source": [
    "### Average Square Footage per Occupancy Level"
   ]
  },
  {
   "cell_type": "code",
   "execution_count": 68,
   "id": "5c1c3c21",
   "metadata": {},
   "outputs": [],
   "source": [
    "avg_sqft_per_occupancy = df.groupBy(\"Occupancy\") \\\n",
    "                        .agg({\"SquareFootage\": \"avg\"}) "
   ]
  },
  {
   "cell_type": "code",
   "execution_count": 69,
   "id": "d6f4913d",
   "metadata": {},
   "outputs": [
    {
     "name": "stdout",
     "output_type": "stream",
     "text": [
      "+---------+------------------+\n",
      "|Occupancy|avg(SquareFootage)|\n",
      "+---------+------------------+\n",
      "|        7|1493.3113153485194|\n",
      "|        3|1487.9264702094163|\n",
      "|        8|1499.1131829727028|\n",
      "|        0|1541.2384387610186|\n",
      "|        5| 1484.001460270324|\n",
      "|        6|1499.7132962204148|\n",
      "|        9|1522.9972838625313|\n",
      "|        1| 1445.975956809209|\n",
      "|        4| 1533.936528078033|\n",
      "|        2|1493.7602329103227|\n",
      "+---------+------------------+\n",
      "\n"
     ]
    }
   ],
   "source": [
    "avg_sqft_per_occupancy.show()"
   ]
  },
  {
   "cell_type": "code",
   "execution_count": 71,
   "id": "8e0249ed",
   "metadata": {},
   "outputs": [
    {
     "name": "stdout",
     "output_type": "stream",
     "text": [
      "Defaulting to user installation because normal site-packages is not writeable\n",
      "Collecting matplotlib\n",
      "  Downloading matplotlib-3.3.4-cp36-cp36m-manylinux1_x86_64.whl (11.5 MB)\n",
      "\u001b[K     |████████████████████████████████| 11.5 MB 7.6 MB/s eta 0:00:01\n",
      "\u001b[?25hCollecting seaborn\n",
      "  Downloading seaborn-0.11.2-py3-none-any.whl (292 kB)\n",
      "\u001b[K     |████████████████████████████████| 292 kB 91.8 MB/s eta 0:00:01\n",
      "\u001b[?25hCollecting cycler>=0.10\n",
      "  Downloading cycler-0.11.0-py3-none-any.whl (6.4 kB)\n",
      "Collecting pillow>=6.2.0\n",
      "  Downloading Pillow-8.4.0-cp36-cp36m-manylinux_2_17_x86_64.manylinux2014_x86_64.whl (3.1 MB)\n",
      "\u001b[K     |████████████████████████████████| 3.1 MB 157.7 MB/s eta 0:00:01\n",
      "\u001b[?25hRequirement already satisfied: numpy>=1.15 in /opt/anaconda3/envs/beakerx/lib/python3.6/site-packages (from matplotlib) (1.19.5)\n",
      "Requirement already satisfied: pyparsing!=2.0.4,!=2.1.2,!=2.1.6,>=2.0.3 in /opt/anaconda3/envs/beakerx/lib/python3.6/site-packages (from matplotlib) (2.4.7)\n",
      "Collecting kiwisolver>=1.0.1\n",
      "  Downloading kiwisolver-1.3.1-cp36-cp36m-manylinux1_x86_64.whl (1.1 MB)\n",
      "\u001b[K     |████████████████████████████████| 1.1 MB 125.8 MB/s eta 0:00:01\n",
      "\u001b[?25hRequirement already satisfied: python-dateutil>=2.1 in /opt/anaconda3/envs/beakerx/lib/python3.6/site-packages (from matplotlib) (2.8.1)\n",
      "Requirement already satisfied: six>=1.5 in /opt/anaconda3/envs/beakerx/lib/python3.6/site-packages (from python-dateutil>=2.1->matplotlib) (1.16.0)\n",
      "Collecting scipy>=1.0\n",
      "  Downloading scipy-1.5.4-cp36-cp36m-manylinux1_x86_64.whl (25.9 MB)\n",
      "\u001b[K     |████████████████████████████████| 25.9 MB 156.6 MB/s eta 0:00:01\n",
      "\u001b[?25hRequirement already satisfied: pandas>=0.23 in /opt/anaconda3/envs/beakerx/lib/python3.6/site-packages (from seaborn) (1.1.5)\n",
      "Requirement already satisfied: pytz>=2017.2 in /opt/anaconda3/envs/beakerx/lib/python3.6/site-packages (from pandas>=0.23->seaborn) (2021.1)\n",
      "Installing collected packages: pillow, kiwisolver, cycler, scipy, matplotlib, seaborn\n",
      "Successfully installed cycler-0.11.0 kiwisolver-1.3.1 matplotlib-3.3.4 pillow-8.4.0 scipy-1.5.4 seaborn-0.11.2\n",
      "Note: you may need to restart the kernel to use updated packages.\n"
     ]
    }
   ],
   "source": [
    "pip install matplotlib seaborn\n"
   ]
  },
  {
   "cell_type": "markdown",
   "id": "577fad2b",
   "metadata": {},
   "source": [
    "### Line Plot - Temperature Trends by Day"
   ]
  },
  {
   "cell_type": "code",
   "execution_count": 15,
   "id": "739b66e5",
   "metadata": {},
   "outputs": [
    {
     "data": {
      "image/png": "[encoded data removed]",
      "text/plain": [
       "<Figure size 720x432 with 1 Axes>"
      ]
     },
     "metadata": {
      "needs_background": "light"
     },
     "output_type": "display_data"
    }
   ],
   "source": [
    "import matplotlib.pyplot as plt\n",
    "import seaborn as sns\n",
    "\n",
    "temperature_trends = df.groupBy(\"DayOfWeek\") \\\n",
    "                      .agg({\"Temperature\": \"avg\"}) \\\n",
    "                      .toPandas()\n",
    "\n",
    "plt.figure(figsize=(10, 6))\n",
    "sns.lineplot(x=\"DayOfWeek\", y=\"avg(Temperature)\", data=temperature_trends)\n",
    "plt.title(\"Temperature Trends by Day of the Week\")\n",
    "plt.xlabel(\"Day of the Week\")\n",
    "plt.ylabel(\"Average Temperature\")\n",
    "plt.show()"
   ]
  },
  {
   "cell_type": "markdown",
   "id": "6e3b4cfa",
   "metadata": {},
   "source": [
    "### Pie Chart - Distribution of Occupancy"
   ]
  },
  {
   "cell_type": "code",
   "execution_count": 12,
   "id": "139179ab",
   "metadata": {},
   "outputs": [
    {
     "data": {
      "image/png": "[encoded data removed]",
      "text/plain": [
       "<Figure size 576x576 with 1 Axes>"
      ]
     },
     "metadata": {},
     "output_type": "display_data"
    }
   ],
   "source": [
    "occupancy_distribution = df.groupBy(\"Occupancy\") \\\n",
    "                          .count() \\\n",
    "                          .toPandas()\n",
    "\n",
    "plt.figure(figsize=(8, 8))\n",
    "plt.pie(occupancy_distribution[\"count\"], labels=occupancy_distribution[\"Occupancy\"], autopct='%1.1f%%')\n",
    "plt.title(\"Distribution of Occupancy\")\n",
    "plt.show()"
   ]
  }
 ],
 "metadata": {
  "kernelspec": {
   "display_name": "Pyspark 3",
   "language": "python",
   "name": "pyspark3"
  },
  "language_info": {
   "codemirror_mode": {
    "name": "ipython",
    "version": 3
   },
   "file_extension": ".py",
   "mimetype": "text/x-python",
   "name": "python",
   "nbconvert_exporter": "python",
   "pygments_lexer": "ipython3",
   "version": "3.6.12"
  }
 },
 "nbformat": 4,
 "nbformat_minor": 5
}
